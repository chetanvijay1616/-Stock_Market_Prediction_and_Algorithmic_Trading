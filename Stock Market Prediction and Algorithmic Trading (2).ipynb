{
 "cells": [
  {
   "cell_type": "code",
   "execution_count": 1,
   "id": "90543acb",
   "metadata": {},
   "outputs": [],
   "source": [
    "import numpy as np\n",
    "import pandas as pd\n",
    "import matplotlib.pyplot as plt\n",
    "import torch\n",
    "import torch.nn as nn\n"
   ]
  },
  {
   "cell_type": "code",
   "execution_count": 2,
   "id": "18f03dfe",
   "metadata": {},
   "outputs": [
    {
     "data": {
      "text/html": [
       "<div>\n",
       "<style scoped>\n",
       "    .dataframe tbody tr th:only-of-type {\n",
       "        vertical-align: middle;\n",
       "    }\n",
       "\n",
       "    .dataframe tbody tr th {\n",
       "        vertical-align: top;\n",
       "    }\n",
       "\n",
       "    .dataframe thead th {\n",
       "        text-align: right;\n",
       "    }\n",
       "</style>\n",
       "<table border=\"1\" class=\"dataframe\">\n",
       "  <thead>\n",
       "    <tr style=\"text-align: right;\">\n",
       "      <th></th>\n",
       "      <th>Date</th>\n",
       "      <th>Close</th>\n",
       "    </tr>\n",
       "  </thead>\n",
       "  <tbody>\n",
       "    <tr>\n",
       "      <th>0</th>\n",
       "      <td>2010-01-13</td>\n",
       "      <td>539.189026</td>\n",
       "    </tr>\n",
       "    <tr>\n",
       "      <th>1</th>\n",
       "      <td>2010-01-14</td>\n",
       "      <td>555.583618</td>\n",
       "    </tr>\n",
       "    <tr>\n",
       "      <th>2</th>\n",
       "      <td>2010-01-15</td>\n",
       "      <td>550.160034</td>\n",
       "    </tr>\n",
       "    <tr>\n",
       "      <th>3</th>\n",
       "      <td>2010-01-18</td>\n",
       "      <td>544.587830</td>\n",
       "    </tr>\n",
       "    <tr>\n",
       "      <th>4</th>\n",
       "      <td>2010-01-19</td>\n",
       "      <td>537.405945</td>\n",
       "    </tr>\n",
       "    <tr>\n",
       "      <th>...</th>\n",
       "      <td>...</td>\n",
       "      <td>...</td>\n",
       "    </tr>\n",
       "    <tr>\n",
       "      <th>3459</th>\n",
       "      <td>2024-01-08</td>\n",
       "      <td>2587.350098</td>\n",
       "    </tr>\n",
       "    <tr>\n",
       "      <th>3460</th>\n",
       "      <td>2024-01-09</td>\n",
       "      <td>2580.500000</td>\n",
       "    </tr>\n",
       "    <tr>\n",
       "      <th>3461</th>\n",
       "      <td>2024-01-10</td>\n",
       "      <td>2650.100098</td>\n",
       "    </tr>\n",
       "    <tr>\n",
       "      <th>3462</th>\n",
       "      <td>2024-01-11</td>\n",
       "      <td>2719.800049</td>\n",
       "    </tr>\n",
       "    <tr>\n",
       "      <th>3463</th>\n",
       "      <td>2024-01-12</td>\n",
       "      <td>2741.449951</td>\n",
       "    </tr>\n",
       "  </tbody>\n",
       "</table>\n",
       "<p>3464 rows × 2 columns</p>\n",
       "</div>"
      ],
      "text/plain": [
       "            Date        Close\n",
       "0     2010-01-13   539.189026\n",
       "1     2010-01-14   555.583618\n",
       "2     2010-01-15   550.160034\n",
       "3     2010-01-18   544.587830\n",
       "4     2010-01-19   537.405945\n",
       "...          ...          ...\n",
       "3459  2024-01-08  2587.350098\n",
       "3460  2024-01-09  2580.500000\n",
       "3461  2024-01-10  2650.100098\n",
       "3462  2024-01-11  2719.800049\n",
       "3463  2024-01-12  2741.449951\n",
       "\n",
       "[3464 rows x 2 columns]"
      ]
     },
     "execution_count": 2,
     "metadata": {},
     "output_type": "execute_result"
    }
   ],
   "source": [
    "data = pd.read_csv('Downloads/RELIANCE.NS.csv')\n",
    "\n",
    "data = data[['Date', 'Close']]\n",
    "data"
   ]
  },
  {
   "cell_type": "code",
   "execution_count": 3,
   "id": "db72f92b",
   "metadata": {},
   "outputs": [
    {
     "data": {
      "text/plain": [
       "'cpu'"
      ]
     },
     "execution_count": 3,
     "metadata": {},
     "output_type": "execute_result"
    }
   ],
   "source": [
    "\n",
    "device = 'cuda:0' if torch.cuda.is_available() else 'cpu'\n",
    "device"
   ]
  },
  {
   "cell_type": "code",
   "execution_count": 4,
   "id": "22e58407",
   "metadata": {},
   "outputs": [
    {
     "data": {
      "text/html": [
       "<div>\n",
       "<style scoped>\n",
       "    .dataframe tbody tr th:only-of-type {\n",
       "        vertical-align: middle;\n",
       "    }\n",
       "\n",
       "    .dataframe tbody tr th {\n",
       "        vertical-align: top;\n",
       "    }\n",
       "\n",
       "    .dataframe thead th {\n",
       "        text-align: right;\n",
       "    }\n",
       "</style>\n",
       "<table border=\"1\" class=\"dataframe\">\n",
       "  <thead>\n",
       "    <tr style=\"text-align: right;\">\n",
       "      <th></th>\n",
       "      <th>Close</th>\n",
       "      <th>Close(t-1)</th>\n",
       "      <th>Close(t-2)</th>\n",
       "      <th>Close(t-3)</th>\n",
       "      <th>Close(t-4)</th>\n",
       "      <th>Close(t-5)</th>\n",
       "      <th>Close(t-6)</th>\n",
       "      <th>Close(t-7)</th>\n",
       "    </tr>\n",
       "    <tr>\n",
       "      <th>Date</th>\n",
       "      <th></th>\n",
       "      <th></th>\n",
       "      <th></th>\n",
       "      <th></th>\n",
       "      <th></th>\n",
       "      <th></th>\n",
       "      <th></th>\n",
       "      <th></th>\n",
       "    </tr>\n",
       "  </thead>\n",
       "  <tbody>\n",
       "    <tr>\n",
       "      <th>2010-01-22</th>\n",
       "      <td>521.977173</td>\n",
       "      <td>522.076233</td>\n",
       "      <td>533.691162</td>\n",
       "      <td>537.405945</td>\n",
       "      <td>544.587830</td>\n",
       "      <td>550.160034</td>\n",
       "      <td>555.583618</td>\n",
       "      <td>539.189026</td>\n",
       "    </tr>\n",
       "    <tr>\n",
       "      <th>2010-01-25</th>\n",
       "      <td>516.132568</td>\n",
       "      <td>521.977173</td>\n",
       "      <td>522.076233</td>\n",
       "      <td>533.691162</td>\n",
       "      <td>537.405945</td>\n",
       "      <td>544.587830</td>\n",
       "      <td>550.160034</td>\n",
       "      <td>555.583618</td>\n",
       "    </tr>\n",
       "    <tr>\n",
       "      <th>2010-01-27</th>\n",
       "      <td>508.950653</td>\n",
       "      <td>516.132568</td>\n",
       "      <td>521.977173</td>\n",
       "      <td>522.076233</td>\n",
       "      <td>533.691162</td>\n",
       "      <td>537.405945</td>\n",
       "      <td>544.587830</td>\n",
       "      <td>550.160034</td>\n",
       "    </tr>\n",
       "    <tr>\n",
       "      <th>2010-01-28</th>\n",
       "      <td>513.705566</td>\n",
       "      <td>508.950653</td>\n",
       "      <td>516.132568</td>\n",
       "      <td>521.977173</td>\n",
       "      <td>522.076233</td>\n",
       "      <td>533.691162</td>\n",
       "      <td>537.405945</td>\n",
       "      <td>544.587830</td>\n",
       "    </tr>\n",
       "    <tr>\n",
       "      <th>2010-01-29</th>\n",
       "      <td>518.188110</td>\n",
       "      <td>513.705566</td>\n",
       "      <td>508.950653</td>\n",
       "      <td>516.132568</td>\n",
       "      <td>521.977173</td>\n",
       "      <td>522.076233</td>\n",
       "      <td>533.691162</td>\n",
       "      <td>537.405945</td>\n",
       "    </tr>\n",
       "    <tr>\n",
       "      <th>...</th>\n",
       "      <td>...</td>\n",
       "      <td>...</td>\n",
       "      <td>...</td>\n",
       "      <td>...</td>\n",
       "      <td>...</td>\n",
       "      <td>...</td>\n",
       "      <td>...</td>\n",
       "      <td>...</td>\n",
       "    </tr>\n",
       "    <tr>\n",
       "      <th>2024-01-08</th>\n",
       "      <td>2587.350098</td>\n",
       "      <td>2607.699951</td>\n",
       "      <td>2596.649902</td>\n",
       "      <td>2583.300049</td>\n",
       "      <td>2611.699951</td>\n",
       "      <td>2590.250000</td>\n",
       "      <td>2584.949951</td>\n",
       "      <td>2605.550049</td>\n",
       "    </tr>\n",
       "    <tr>\n",
       "      <th>2024-01-09</th>\n",
       "      <td>2580.500000</td>\n",
       "      <td>2587.350098</td>\n",
       "      <td>2607.699951</td>\n",
       "      <td>2596.649902</td>\n",
       "      <td>2583.300049</td>\n",
       "      <td>2611.699951</td>\n",
       "      <td>2590.250000</td>\n",
       "      <td>2584.949951</td>\n",
       "    </tr>\n",
       "    <tr>\n",
       "      <th>2024-01-10</th>\n",
       "      <td>2650.100098</td>\n",
       "      <td>2580.500000</td>\n",
       "      <td>2587.350098</td>\n",
       "      <td>2607.699951</td>\n",
       "      <td>2596.649902</td>\n",
       "      <td>2583.300049</td>\n",
       "      <td>2611.699951</td>\n",
       "      <td>2590.250000</td>\n",
       "    </tr>\n",
       "    <tr>\n",
       "      <th>2024-01-11</th>\n",
       "      <td>2719.800049</td>\n",
       "      <td>2650.100098</td>\n",
       "      <td>2580.500000</td>\n",
       "      <td>2587.350098</td>\n",
       "      <td>2607.699951</td>\n",
       "      <td>2596.649902</td>\n",
       "      <td>2583.300049</td>\n",
       "      <td>2611.699951</td>\n",
       "    </tr>\n",
       "    <tr>\n",
       "      <th>2024-01-12</th>\n",
       "      <td>2741.449951</td>\n",
       "      <td>2719.800049</td>\n",
       "      <td>2650.100098</td>\n",
       "      <td>2580.500000</td>\n",
       "      <td>2587.350098</td>\n",
       "      <td>2607.699951</td>\n",
       "      <td>2596.649902</td>\n",
       "      <td>2583.300049</td>\n",
       "    </tr>\n",
       "  </tbody>\n",
       "</table>\n",
       "<p>3401 rows × 8 columns</p>\n",
       "</div>"
      ],
      "text/plain": [
       "                  Close   Close(t-1)   Close(t-2)   Close(t-3)   Close(t-4)  \\\n",
       "Date                                                                          \n",
       "2010-01-22   521.977173   522.076233   533.691162   537.405945   544.587830   \n",
       "2010-01-25   516.132568   521.977173   522.076233   533.691162   537.405945   \n",
       "2010-01-27   508.950653   516.132568   521.977173   522.076233   533.691162   \n",
       "2010-01-28   513.705566   508.950653   516.132568   521.977173   522.076233   \n",
       "2010-01-29   518.188110   513.705566   508.950653   516.132568   521.977173   \n",
       "...                 ...          ...          ...          ...          ...   \n",
       "2024-01-08  2587.350098  2607.699951  2596.649902  2583.300049  2611.699951   \n",
       "2024-01-09  2580.500000  2587.350098  2607.699951  2596.649902  2583.300049   \n",
       "2024-01-10  2650.100098  2580.500000  2587.350098  2607.699951  2596.649902   \n",
       "2024-01-11  2719.800049  2650.100098  2580.500000  2587.350098  2607.699951   \n",
       "2024-01-12  2741.449951  2719.800049  2650.100098  2580.500000  2587.350098   \n",
       "\n",
       "             Close(t-5)   Close(t-6)   Close(t-7)  \n",
       "Date                                               \n",
       "2010-01-22   550.160034   555.583618   539.189026  \n",
       "2010-01-25   544.587830   550.160034   555.583618  \n",
       "2010-01-27   537.405945   544.587830   550.160034  \n",
       "2010-01-28   533.691162   537.405945   544.587830  \n",
       "2010-01-29   522.076233   533.691162   537.405945  \n",
       "...                 ...          ...          ...  \n",
       "2024-01-08  2590.250000  2584.949951  2605.550049  \n",
       "2024-01-09  2611.699951  2590.250000  2584.949951  \n",
       "2024-01-10  2583.300049  2611.699951  2590.250000  \n",
       "2024-01-11  2596.649902  2583.300049  2611.699951  \n",
       "2024-01-12  2607.699951  2596.649902  2583.300049  \n",
       "\n",
       "[3401 rows x 8 columns]"
      ]
     },
     "execution_count": 4,
     "metadata": {},
     "output_type": "execute_result"
    }
   ],
   "source": [
    "from copy import deepcopy as dc\n",
    "\n",
    "def prepare_dataframe_for_lstm(df, n_steps):\n",
    "    df = dc(df)\n",
    "    \n",
    "    df.set_index('Date', inplace=True)\n",
    "    \n",
    "    for i in range(1, n_steps+1):\n",
    "        df[f'Close(t-{i})'] = df['Close'].shift(i)\n",
    "        \n",
    "    df.dropna(inplace=True)\n",
    "    \n",
    "    return df\n",
    "\n",
    "lookback = 7\n",
    "shifted_df = prepare_dataframe_for_lstm(data, lookback)\n",
    "shifted_df"
   ]
  },
  {
   "cell_type": "code",
   "execution_count": 5,
   "id": "550a1c12",
   "metadata": {},
   "outputs": [
    {
     "data": {
      "text/plain": [
       "array([[ 521.977173,  522.076233,  533.691162, ...,  550.160034,\n",
       "         555.583618,  539.189026],\n",
       "       [ 516.132568,  521.977173,  522.076233, ...,  544.58783 ,\n",
       "         550.160034,  555.583618],\n",
       "       [ 508.950653,  516.132568,  521.977173, ...,  537.405945,\n",
       "         544.58783 ,  550.160034],\n",
       "       ...,\n",
       "       [2650.100098, 2580.5     , 2587.350098, ..., 2583.300049,\n",
       "        2611.699951, 2590.25    ],\n",
       "       [2719.800049, 2650.100098, 2580.5     , ..., 2596.649902,\n",
       "        2583.300049, 2611.699951],\n",
       "       [2741.449951, 2719.800049, 2650.100098, ..., 2607.699951,\n",
       "        2596.649902, 2583.300049]])"
      ]
     },
     "execution_count": 5,
     "metadata": {},
     "output_type": "execute_result"
    }
   ],
   "source": [
    "shifted_df_as_np = shifted_df.to_numpy()\n",
    "\n",
    "shifted_df_as_np"
   ]
  },
  {
   "cell_type": "code",
   "execution_count": 6,
   "id": "b54a11b7",
   "metadata": {},
   "outputs": [
    {
     "data": {
      "text/plain": [
       "(3401, 8)"
      ]
     },
     "execution_count": 6,
     "metadata": {},
     "output_type": "execute_result"
    }
   ],
   "source": [
    "shifted_df_as_np.shape"
   ]
  },
  {
   "cell_type": "code",
   "execution_count": 7,
   "id": "614ab95d",
   "metadata": {},
   "outputs": [
    {
     "data": {
      "text/plain": [
       "array([[-0.85073524, -0.85065621, -0.84139012, ..., -0.82825167,\n",
       "        -0.82392487, -0.83700406],\n",
       "       [-0.85539791, -0.85073524, -0.85065621, ..., -0.83269703,\n",
       "        -0.82825167, -0.82392487],\n",
       "       [-0.86112746, -0.85539791, -0.85073524, ..., -0.83842656,\n",
       "        -0.83269703, -0.82825167],\n",
       "       ...,\n",
       "       [ 0.84702676,  0.79150158,  0.79696641, ...,  0.79373539,\n",
       "         0.8163921 ,  0.79927988],\n",
       "       [ 0.9026316 ,  0.84702676,  0.79150158, ...,  0.80438556,\n",
       "         0.79373539,  0.8163921 ],\n",
       "       [ 0.91990333,  0.9026316 ,  0.84702676, ...,  0.81320101,\n",
       "         0.80438556,  0.79373539]])"
      ]
     },
     "execution_count": 7,
     "metadata": {},
     "output_type": "execute_result"
    }
   ],
   "source": [
    "from sklearn.preprocessing import MinMaxScaler\n",
    "\n",
    "scaler = MinMaxScaler(feature_range=(-1, 1))\n",
    "shifted_df_as_np = scaler.fit_transform(shifted_df_as_np)\n",
    "\n",
    "shifted_df_as_np"
   ]
  },
  {
   "cell_type": "code",
   "execution_count": 8,
   "id": "938a050d",
   "metadata": {},
   "outputs": [
    {
     "data": {
      "text/plain": [
       "((3401, 7), (3401,))"
      ]
     },
     "execution_count": 8,
     "metadata": {},
     "output_type": "execute_result"
    }
   ],
   "source": [
    "X = shifted_df_as_np[:, 1:]\n",
    "y = shifted_df_as_np[:, 0]\n",
    "\n",
    "X.shape, y.shape"
   ]
  },
  {
   "cell_type": "code",
   "execution_count": 9,
   "id": "50fb1554",
   "metadata": {},
   "outputs": [
    {
     "data": {
      "text/plain": [
       "array([[-0.83700406, -0.82392487, -0.82825167, ..., -0.83842656,\n",
       "        -0.84139012, -0.85065621],\n",
       "       [-0.82392487, -0.82825167, -0.83269703, ..., -0.84139012,\n",
       "        -0.85065621, -0.85073524],\n",
       "       [-0.82825167, -0.83269703, -0.83842656, ..., -0.85065621,\n",
       "        -0.85073524, -0.85539791],\n",
       "       ...,\n",
       "       [ 0.79927988,  0.8163921 ,  0.79373539, ...,  0.81320101,\n",
       "         0.79696641,  0.79150158],\n",
       "       [ 0.8163921 ,  0.79373539,  0.80438556, ...,  0.79696641,\n",
       "         0.79150158,  0.84702676],\n",
       "       [ 0.79373539,  0.80438556,  0.81320101, ...,  0.79150158,\n",
       "         0.84702676,  0.9026316 ]])"
      ]
     },
     "execution_count": 9,
     "metadata": {},
     "output_type": "execute_result"
    }
   ],
   "source": [
    "X = dc(np.flip(X, axis=1))\n",
    "X"
   ]
  },
  {
   "cell_type": "code",
   "execution_count": 10,
   "id": "561e14e6",
   "metadata": {},
   "outputs": [
    {
     "data": {
      "text/plain": [
       "3060"
      ]
     },
     "execution_count": 10,
     "metadata": {},
     "output_type": "execute_result"
    }
   ],
   "source": [
    "split_index = int(len(X) * 0.90)\n",
    "\n",
    "split_index"
   ]
  },
  {
   "cell_type": "code",
   "execution_count": 11,
   "id": "627d8896",
   "metadata": {},
   "outputs": [
    {
     "data": {
      "text/plain": [
       "((3060, 7), (341, 7), (3060,), (341,))"
      ]
     },
     "execution_count": 11,
     "metadata": {},
     "output_type": "execute_result"
    }
   ],
   "source": [
    "X_train = X[:split_index]\n",
    "X_test = X[split_index:]\n",
    "\n",
    "y_train = y[:split_index]\n",
    "y_test = y[split_index:]\n",
    "\n",
    "X_train.shape, X_test.shape, y_train.shape, y_test.shape"
   ]
  },
  {
   "cell_type": "code",
   "execution_count": 12,
   "id": "b23847a2",
   "metadata": {},
   "outputs": [
    {
     "data": {
      "text/plain": [
       "((3060, 7, 1), (341, 7, 1), (3060, 1), (341, 1))"
      ]
     },
     "execution_count": 12,
     "metadata": {},
     "output_type": "execute_result"
    }
   ],
   "source": [
    "X_train = X_train.reshape((-1, lookback, 1))\n",
    "X_test = X_test.reshape((-1, lookback, 1))\n",
    "\n",
    "y_train = y_train.reshape((-1, 1))\n",
    "y_test = y_test.reshape((-1, 1))\n",
    "\n",
    "X_train.shape, X_test.shape, y_train.shape, y_test.shape"
   ]
  },
  {
   "cell_type": "code",
   "execution_count": 13,
   "id": "567578ad",
   "metadata": {},
   "outputs": [
    {
     "data": {
      "text/plain": [
       "(torch.Size([3060, 7, 1]),\n",
       " torch.Size([341, 7, 1]),\n",
       " torch.Size([3060, 1]),\n",
       " torch.Size([341, 1]))"
      ]
     },
     "execution_count": 13,
     "metadata": {},
     "output_type": "execute_result"
    }
   ],
   "source": [
    "X_train = torch.tensor(X_train).float()\n",
    "y_train = torch.tensor(y_train).float()\n",
    "X_test = torch.tensor(X_test).float()\n",
    "y_test = torch.tensor(y_test).float()\n",
    "\n",
    "X_train.shape, X_test.shape, y_train.shape, y_test.shape"
   ]
  },
  {
   "cell_type": "code",
   "execution_count": 14,
   "id": "f13c4916",
   "metadata": {},
   "outputs": [],
   "source": [
    "from torch.utils.data import Dataset\n",
    "\n",
    "class TimeSeriesDataset(Dataset):\n",
    "    def __init__(self, X, y):\n",
    "        self.X = X\n",
    "        self.y = y\n",
    "\n",
    "    def __len__(self):\n",
    "        return len(self.X)\n",
    "\n",
    "    def __getitem__(self, i):\n",
    "        return self.X[i], self.y[i]\n",
    "    \n",
    "train_dataset = TimeSeriesDataset(X_train, y_train)\n",
    "test_dataset = TimeSeriesDataset(X_test, y_test)"
   ]
  },
  {
   "cell_type": "code",
   "execution_count": 15,
   "id": "e8aeb29a",
   "metadata": {},
   "outputs": [
    {
     "data": {
      "text/plain": [
       "<__main__.TimeSeriesDataset at 0x2273a8f03d0>"
      ]
     },
     "execution_count": 15,
     "metadata": {},
     "output_type": "execute_result"
    }
   ],
   "source": [
    "train_dataset"
   ]
  },
  {
   "cell_type": "code",
   "execution_count": 16,
   "id": "2013c958",
   "metadata": {},
   "outputs": [],
   "source": [
    "from torch.utils.data import DataLoader\n",
    "\n",
    "batch_size = 16\n",
    "\n",
    "train_loader = DataLoader(train_dataset, batch_size=batch_size, shuffle=True)\n",
    "test_loader = DataLoader(test_dataset, batch_size=batch_size, shuffle=False)"
   ]
  },
  {
   "cell_type": "code",
   "execution_count": 17,
   "id": "fe2c5ad7",
   "metadata": {},
   "outputs": [
    {
     "name": "stdout",
     "output_type": "stream",
     "text": [
      "torch.Size([16, 7, 1]) torch.Size([16, 1])\n"
     ]
    }
   ],
   "source": [
    "for _, batch in enumerate(train_loader):\n",
    "    x_batch, y_batch = batch[0].to(device), batch[1].to(device)\n",
    "    print(x_batch.shape, y_batch.shape)\n",
    "    break"
   ]
  },
  {
   "cell_type": "code",
   "execution_count": 18,
   "id": "655b31e2",
   "metadata": {},
   "outputs": [
    {
     "data": {
      "text/plain": [
       "LSTM(\n",
       "  (lstm): LSTM(1, 4, batch_first=True)\n",
       "  (fc): Linear(in_features=4, out_features=1, bias=True)\n",
       ")"
      ]
     },
     "execution_count": 18,
     "metadata": {},
     "output_type": "execute_result"
    }
   ],
   "source": [
    "class LSTM(nn.Module):\n",
    "    def __init__(self, input_size, hidden_size, num_stacked_layers):\n",
    "        super().__init__()\n",
    "        self.hidden_size = hidden_size\n",
    "        self.num_stacked_layers = num_stacked_layers\n",
    "\n",
    "        self.lstm = nn.LSTM(input_size, hidden_size, num_stacked_layers, \n",
    "                            batch_first=True)\n",
    "        \n",
    "        self.fc = nn.Linear(hidden_size, 1)\n",
    "\n",
    "    def forward(self, x):\n",
    "        batch_size = x.size(0)\n",
    "        h0 = torch.zeros(self.num_stacked_layers, batch_size, self.hidden_size).to(device)\n",
    "        c0 = torch.zeros(self.num_stacked_layers, batch_size, self.hidden_size).to(device)\n",
    "        \n",
    "        out, _ = self.lstm(x, (h0, c0))\n",
    "        out = self.fc(out[:, -1, :])\n",
    "        return out\n",
    "\n",
    "model = LSTM(1, 4, 1)\n",
    "model.to(device)\n",
    "model"
   ]
  },
  {
   "cell_type": "code",
   "execution_count": 19,
   "id": "88819485",
   "metadata": {},
   "outputs": [],
   "source": [
    "def train_one_epoch():\n",
    "    model.train(True)\n",
    "    print(f'Epoch: {epoch + 1}')\n",
    "    running_loss = 0.0\n",
    "    \n",
    "    for batch_index, batch in enumerate(train_loader):\n",
    "        x_batch, y_batch = batch[0].to(device), batch[1].to(device)\n",
    "        \n",
    "        output = model(x_batch)\n",
    "        loss = loss_function(output, y_batch)\n",
    "        running_loss += loss.item()\n",
    "        \n",
    "        optimizer.zero_grad()\n",
    "        loss.backward()\n",
    "        optimizer.step()\n",
    "\n",
    "        if batch_index % 100 == 99:  # print every 100 batches\n",
    "            avg_loss_across_batches = running_loss / 100\n",
    "            print('Batch {0}, Loss: {1:.3f}'.format(batch_index+1,\n",
    "                                                    avg_loss_across_batches))\n",
    "            running_loss = 0.0\n",
    "    print()"
   ]
  },
  {
   "cell_type": "code",
   "execution_count": 20,
   "id": "013d1102",
   "metadata": {},
   "outputs": [],
   "source": [
    "def validate_one_epoch():\n",
    "    model.train(False)\n",
    "    running_loss = 0.0\n",
    "    \n",
    "    for batch_index, batch in enumerate(test_loader):\n",
    "        x_batch, y_batch = batch[0].to(device), batch[1].to(device)\n",
    "        \n",
    "        with torch.no_grad():\n",
    "            output = model(x_batch)\n",
    "            loss = loss_function(output, y_batch)\n",
    "            running_loss += loss.item()\n",
    "\n",
    "    avg_loss_across_batches = running_loss / len(test_loader)\n",
    "    \n",
    "    print('Val Loss: {0:.3f}'.format(avg_loss_across_batches))\n",
    "    print('***************************************************')\n",
    "    print()"
   ]
  },
  {
   "cell_type": "code",
   "execution_count": 21,
   "id": "4323b833",
   "metadata": {},
   "outputs": [
    {
     "name": "stdout",
     "output_type": "stream",
     "text": [
      "Epoch: 1\n",
      "Batch 100, Loss: 0.700\n",
      "\n",
      "Val Loss: 0.620\n",
      "***************************************************\n",
      "\n",
      "Epoch: 2\n",
      "Batch 100, Loss: 0.100\n",
      "\n",
      "Val Loss: 0.167\n",
      "***************************************************\n",
      "\n",
      "Epoch: 3\n",
      "Batch 100, Loss: 0.016\n",
      "\n",
      "Val Loss: 0.068\n",
      "***************************************************\n",
      "\n",
      "Epoch: 4\n",
      "Batch 100, Loss: 0.008\n",
      "\n",
      "Val Loss: 0.030\n",
      "***************************************************\n",
      "\n",
      "Epoch: 5\n",
      "Batch 100, Loss: 0.005\n",
      "\n",
      "Val Loss: 0.018\n",
      "***************************************************\n",
      "\n",
      "Epoch: 6\n",
      "Batch 100, Loss: 0.004\n",
      "\n",
      "Val Loss: 0.011\n",
      "***************************************************\n",
      "\n",
      "Epoch: 7\n",
      "Batch 100, Loss: 0.003\n",
      "\n",
      "Val Loss: 0.008\n",
      "***************************************************\n",
      "\n",
      "Epoch: 8\n",
      "Batch 100, Loss: 0.002\n",
      "\n",
      "Val Loss: 0.006\n",
      "***************************************************\n",
      "\n",
      "Epoch: 9\n",
      "Batch 100, Loss: 0.002\n",
      "\n",
      "Val Loss: 0.004\n",
      "***************************************************\n",
      "\n",
      "Epoch: 10\n",
      "Batch 100, Loss: 0.001\n",
      "\n",
      "Val Loss: 0.003\n",
      "***************************************************\n",
      "\n"
     ]
    }
   ],
   "source": [
    "learning_rate = 0.001\n",
    "num_epochs = 10\n",
    "loss_function = nn.MSELoss()\n",
    "optimizer = torch.optim.Adam(model.parameters(), lr=learning_rate)\n",
    "\n",
    "for epoch in range(num_epochs):\n",
    "    train_one_epoch()\n",
    "    validate_one_epoch()"
   ]
  },
  {
   "cell_type": "code",
   "execution_count": 22,
   "id": "dbc00a63",
   "metadata": {},
   "outputs": [
    {
     "data": {
      "image/png": "[encoded data removed]",
      "text/plain": [
       "<Figure size 640x480 with 1 Axes>"
      ]
     },
     "metadata": {},
     "output_type": "display_data"
    }
   ],
   "source": [
    "with torch.no_grad():\n",
    "    predicted = model(X_train.to(device)).to('cpu').numpy()\n",
    "\n",
    "plt.plot(y_train, label='Actual Close')\n",
    "plt.plot(predicted, label='Predicted Close')\n",
    "plt.xlabel('Day')\n",
    "plt.ylabel('Close')\n",
    "plt.legend()\n",
    "plt.show()"
   ]
  },
  {
   "cell_type": "code",
   "execution_count": 23,
   "id": "58223d0a",
   "metadata": {},
   "outputs": [
    {
     "data": {
      "text/plain": [
       "array([ 524.25741971,  520.87550592,  516.55354488, ..., 2535.83243869,\n",
       "       2536.83203273, 2536.5293677 ])"
      ]
     },
     "execution_count": 23,
     "metadata": {},
     "output_type": "execute_result"
    }
   ],
   "source": [
    "train_predictions = predicted.flatten()\n",
    "\n",
    "dummies = np.zeros((X_train.shape[0], lookback+1))\n",
    "dummies[:, 0] = train_predictions\n",
    "dummies = scaler.inverse_transform(dummies)\n",
    "\n",
    "train_predictions = dc(dummies[:, 0])\n",
    "train_predictions"
   ]
  },
  {
   "cell_type": "code",
   "execution_count": 24,
   "id": "04c05c56",
   "metadata": {},
   "outputs": [
    {
     "data": {
      "text/plain": [
       "array([ 521.97715883,  516.13253341,  508.95068293, ..., 2639.75002352,\n",
       "       2632.05003381, 2617.99998077])"
      ]
     },
     "execution_count": 24,
     "metadata": {},
     "output_type": "execute_result"
    }
   ],
   "source": [
    "dummies = np.zeros((X_train.shape[0], lookback+1))\n",
    "dummies[:, 0] = y_train.flatten()\n",
    "dummies = scaler.inverse_transform(dummies)\n",
    "\n",
    "new_y_train = dc(dummies[:, 0])\n",
    "new_y_train"
   ]
  },
  {
   "cell_type": "code",
   "execution_count": 25,
   "id": "78cc0b64",
   "metadata": {},
   "outputs": [
    {
     "data": {
      "image/png": "[encoded data removed]",
      "text/plain": [
       "<Figure size 640x480 with 1 Axes>"
      ]
     },
     "metadata": {},
     "output_type": "display_data"
    }
   ],
   "source": [
    "plt.plot(new_y_train, label='Actual Close')\n",
    "plt.plot(train_predictions, label='Predicted Close')\n",
    "plt.xlabel('Day')\n",
    "plt.ylabel('Close')\n",
    "plt.legend()\n",
    "plt.show()\n"
   ]
  },
  {
   "cell_type": "code",
   "execution_count": 26,
   "id": "0c6ecfcf",
   "metadata": {},
   "outputs": [
    {
     "data": {
      "text/plain": [
       "array([2534.37253379, 2529.53818647, 2529.9075708 , 2522.85557265,\n",
       "       2509.16362219, 2502.21741858, 2503.07206813, 2504.35198782,\n",
       "       2505.74935739, 2504.96000758, 2507.45574265, 2513.52465847,\n",
       "       2515.04784584, 2510.98035952, 2497.95111921, 2484.24295589,\n",
       "       2473.94128713, 2467.551775  , 2461.03121511, 2449.45007494,\n",
       "       2429.4520675 , 2413.03433861, 2392.09224937, 2371.77499047,\n",
       "       2364.74503285, 2363.60041959, 2371.32730622, 2382.63327598,\n",
       "       2393.75171446, 2398.80220839, 2392.67568834, 2385.80830764,\n",
       "       2381.78923577, 2377.47728636, 2379.94194055, 2391.3151526 ,\n",
       "       2409.79542677, 2427.76346409, 2437.01294038, 2442.02271537,\n",
       "       2439.31001183, 2434.78475493, 2441.57607712, 2454.68877258,\n",
       "       2464.2490577 , 2472.54877395, 2480.05884154, 2490.42625832,\n",
       "       2501.26900339, 2508.96540685, 2510.08118063, 2515.98445627,\n",
       "       2521.44961101, 2523.06790887, 2521.29495374, 2519.56966592,\n",
       "       2518.33629284, 2511.56648818, 2505.26289676, 2500.51947596,\n",
       "       2499.76449444, 2505.93307828, 2524.1669468 , 2543.44247315,\n",
       "       2560.00335342, 2571.1912756 , 2577.60641451, 2576.54749782,\n",
       "       2573.36125911, 2565.93487082, 2558.08395951, 2547.53229886,\n",
       "       2538.30463895, 2533.61628213, 2530.49474545, 2523.61115189,\n",
       "       2515.29948145, 2512.70527377, 2516.04392835, 2515.6673715 ,\n",
       "       2512.69302073, 2500.29391543, 2489.21642003, 2484.6450648 ,\n",
       "       2482.82563777, 2482.31265379, 2483.30896043, 2488.33442529,\n",
       "       2491.7110344 , 2487.73230791, 2481.32747948, 2478.84997454,\n",
       "       2486.29907579, 2490.96598979, 2488.37760978, 2477.06476637,\n",
       "       2464.04157786, 2449.99944448, 2442.88969267, 2439.92505468,\n",
       "       2438.86016089, 2434.80873801, 2428.52898024, 2420.57690664,\n",
       "       2408.65499748, 2390.60611998, 2377.44202152, 2368.51209554,\n",
       "       2360.74321984, 2353.1749503 , 2347.70322076, 2341.56392467,\n",
       "       2335.25248832, 2337.33453386, 2343.33852351, 2346.32094335,\n",
       "       2345.44425328, 2351.69771184, 2367.81905164, 2383.60993293,\n",
       "       2397.01333925, 2403.33777578, 2408.1294616 , 2403.39665015,\n",
       "       2393.28624836, 2386.28438308, 2379.8322609 , 2367.8511038 ,\n",
       "       2359.55841063, 2352.07531467, 2355.40194034, 2366.1499485 ,\n",
       "       2378.36817203, 2380.10989686, 2371.4354916 , 2354.43155934,\n",
       "       2335.90884781, 2314.18346057, 2293.90452977, 2278.51620568,\n",
       "       2264.86258332, 2265.95967869, 2274.31759689, 2278.69581731,\n",
       "       2273.31224989, 2270.44279709, 2270.93934407, 2269.97822756,\n",
       "       2284.62083463, 2303.42947533, 2318.3636898 , 2331.07472464,\n",
       "       2337.33557985, 2341.28778299, 2345.15593327, 2349.29155844,\n",
       "       2355.02007883, 2356.02505226, 2356.49470232, 2356.09139799,\n",
       "       2355.48696449, 2356.46638585, 2360.6866616 , 2363.27571403,\n",
       "       2366.84508438, 2376.68203417, 2389.94370868, 2398.31402934,\n",
       "       2406.89041028, 2413.19205914, 2421.20823706, 2429.40432547,\n",
       "       2437.92788385, 2442.7771739 , 2445.60239621, 2447.77424757,\n",
       "       2444.3136603 , 2436.95354302, 2429.30704829, 2424.24833586,\n",
       "       2423.3372775 , 2424.10697761, 2423.30813917, 2422.14589349,\n",
       "       2430.52503036, 2442.92249197, 2453.36477183, 2454.08232181,\n",
       "       2449.77560236, 2443.78782557, 2441.12136979, 2440.61062721,\n",
       "       2443.76869887, 2448.19652917, 2449.67444006, 2449.71605557,\n",
       "       2454.41464817, 2464.04785381, 2473.41082015, 2483.62641877,\n",
       "       2488.96605456, 2491.55503228, 2493.81601703, 2491.39947844,\n",
       "       2484.76483079, 2475.73927134, 2467.72511069, 2462.16058678,\n",
       "       2465.82887802, 2481.20868476, 2494.00967484, 2501.64578437,\n",
       "       2513.05373828, 2522.88784895, 2541.18627007, 2562.52912338,\n",
       "       2579.04696858, 2587.9870556 , 2591.74619865, 2598.83816861,\n",
       "       2608.77530942, 2618.30757691, 2602.9099136 , 2569.05297067,\n",
       "       2531.65631871, 2499.34602323, 2481.10154537, 2469.43702476,\n",
       "       2466.01655873, 2470.99129301, 2472.29683949, 2467.68611016,\n",
       "       2460.39839042, 2458.15249782, 2460.74797563, 2462.06121761,\n",
       "       2464.85446248, 2469.7047238 , 2475.40731855, 2484.02957367,\n",
       "       2491.51543404, 2491.88541608, 2491.95534807, 2487.47783319,\n",
       "       2481.47705622, 2477.09644496, 2468.34134895, 2458.05589306,\n",
       "       2446.46175272, 2433.0156849 , 2421.62498986, 2411.80597134,\n",
       "       2405.45897128, 2401.87025009, 2401.80659405, 2404.05271079,\n",
       "       2407.0409583 , 2411.94553646, 2420.39206505, 2423.20354005,\n",
       "       2424.57259314, 2425.8851627 , 2427.27931958, 2425.40834013,\n",
       "       2414.61154396, 2399.93277548, 2385.76168632, 2372.15677727,\n",
       "       2362.00528297, 2359.69909645, 2355.96169508, 2353.78991843,\n",
       "       2348.76064318, 2342.55746691, 2337.33632698, 2334.04377074,\n",
       "       2329.20837743, 2326.45106984, 2330.9787923 , 2338.23057477,\n",
       "       2344.69203616, 2348.76288459, 2352.70896121, 2350.97254106,\n",
       "       2344.07407948, 2335.62194736, 2322.73503657, 2309.69720419,\n",
       "       2294.405709  , 2287.62776055, 2293.88570193, 2299.94318656,\n",
       "       2306.02465428, 2314.81217601, 2322.39650898, 2330.61030453,\n",
       "       2334.88228213, 2338.55744703, 2337.6821018 , 2335.35544374,\n",
       "       2333.14690797, 2337.96347344, 2345.46666737, 2351.48634689,\n",
       "       2354.75342578, 2360.80605402, 2368.02167509, 2374.97183852,\n",
       "       2380.12185104, 2383.70452043, 2386.87342557, 2385.66545513,\n",
       "       2385.2113455 , 2389.44731112, 2397.11547282, 2407.83695762,\n",
       "       2416.89143126, 2422.95429528, 2427.22059464, 2424.61547878,\n",
       "       2421.01980922, 2422.61823324, 2430.29521115, 2442.23878727,\n",
       "       2458.15339439, 2467.97151634, 2477.60225643, 2485.87455277,\n",
       "       2492.84010722, 2499.15214129, 2506.15243758, 2509.32821638,\n",
       "       2510.98656076, 2514.49750503, 2514.51244776, 2514.36757798,\n",
       "       2516.18827514, 2515.52250172, 2513.14563608, 2519.49032002,\n",
       "       2536.39690038])"
      ]
     },
     "execution_count": 26,
     "metadata": {},
     "output_type": "execute_result"
    }
   ],
   "source": [
    "test_predictions = model(X_test.to(device)).detach().cpu().numpy().flatten()\n",
    "\n",
    "dummies = np.zeros((X_test.shape[0], lookback+1))\n",
    "dummies[:, 0] = test_predictions\n",
    "dummies = scaler.inverse_transform(dummies)\n",
    "\n",
    "test_predictions = dc(dummies[:, 0])\n",
    "test_predictions"
   ]
  },
  {
   "cell_type": "code",
   "execution_count": 27,
   "id": "9c8f37e6",
   "metadata": {},
   "outputs": [
    {
     "data": {
      "text/plain": [
       "array([2597.64992257, 2637.94994733, 2560.39993352, 2530.4999754 ,\n",
       "       2569.80003255, 2596.85011285, 2581.75003405, 2585.39987101,\n",
       "       2569.30004874, 2598.05001422, 2619.74999881, 2588.35008927,\n",
       "       2562.6999188 , 2499.19995803, 2502.44992749, 2502.85009385,\n",
       "       2509.74997498, 2486.10011331, 2439.50000867, 2377.35012371,\n",
       "       2396.24998979, 2332.44997896, 2325.30003121, 2377.74999122,\n",
       "       2369.50003426, 2413.19997879, 2422.10009401, 2432.35006091,\n",
       "       2405.80003913, 2357.89991682, 2375.24999747, 2382.80003687,\n",
       "       2370.69993563, 2408.75003325, 2451.25000171, 2493.89992047,\n",
       "       2500.600092  , 2471.60013462, 2479.85009158, 2441.55007676,\n",
       "       2451.1498854 , 2526.14992203, 2549.60007409, 2529.850116  ,\n",
       "       2545.64988821, 2555.1498794 , 2592.74997666, 2606.60009594,\n",
       "       2603.99998589, 2572.50003476, 2631.8000419 , 2619.05008125,\n",
       "       2607.3000135 , 2592.35010916, 2599.05005654, 2597.64992257,\n",
       "       2550.89986762, 2565.05003695, 2557.0500719 , 2579.10008999,\n",
       "       2617.60011327, 2707.55005424, 2712.19993353, 2731.35009036,\n",
       "       2723.30006716, 2722.14992509, 2682.44992573, 2690.19997359,\n",
       "       2650.49997423, 2649.25001471, 2609.10008969, 2613.10010958,\n",
       "       2624.99997821, 2615.49998702, 2578.35011428, 2565.60007891,\n",
       "       2599.30004845, 2621.80006691, 2584.5000197 , 2577.80007232,\n",
       "       2502.19993558, 2524.05001992, 2544.69997875, 2544.44998685,\n",
       "       2543.30006892, 2547.1999725 , 2575.89987982, 2557.0500719 ,\n",
       "       2518.55004862, 2514.05004492, 2536.89987273, 2596.8000547 ,\n",
       "       2558.39992358, 2526.14992203, 2471.60013462, 2467.60011474,\n",
       "       2444.10012866, 2478.80006581, 2474.69992963, 2472.05006028,\n",
       "       2442.64993654, 2430.30006753, 2415.94996445, 2382.55004497,\n",
       "       2337.3500743 , 2359.74997645, 2353.85006293, 2339.89990206,\n",
       "       2326.94993294, 2329.00000103, 2311.44998664, 2305.89988247,\n",
       "       2351.94994515, 2356.05008134, 2336.6499326 , 2323.35007941,\n",
       "       2378.10009943, 2431.94996927, 2430.05007563, 2440.19992623,\n",
       "       2414.39988016, 2434.10007895, 2378.89990915, 2367.50002432,\n",
       "       2383.69996289, 2367.85013252, 2322.55004555, 2343.89992194,\n",
       "       2326.05008163, 2385.39992278, 2408.6999751 , 2417.35009842,\n",
       "       2359.24999264, 2322.69992115, 2284.50002264, 2275.94994091,\n",
       "       2237.05005012, 2225.89993306, 2223.10011339, 2201.2499917 ,\n",
       "       2269.69991918, 2276.60009917, 2247.80007555, 2203.30005979,\n",
       "       2237.55003393, 2248.0000093 , 2234.69993198, 2331.05006913,\n",
       "       2331.44993663, 2325.85007316, 2341.44998634, 2324.85010555,\n",
       "       2336.35010668, 2346.64990759, 2355.49996466, 2367.44996617,\n",
       "       2340.35012657, 2352.0000033 , 2346.05003162, 2349.00002574,\n",
       "       2358.00003313, 2376.05003133, 2362.1000946 , 2377.05007366,\n",
       "       2420.50002629, 2441.05001824, 2420.10008407, 2448.00003225,\n",
       "       2441.75001052, 2471.89988582, 2479.55004153, 2496.60007212,\n",
       "       2480.30001724, 2484.35009527, 2489.24996647, 2453.80005361,\n",
       "       2439.30007492, 2434.0500208 , 2441.94994427, 2455.00002969,\n",
       "       2454.55002932, 2440.24998438, 2439.94993433, 2506.50000552,\n",
       "       2520.60011671, 2519.94995845, 2469.89987588, 2463.24998665,\n",
       "       2455.19996344, 2477.24998153, 2479.35010777, 2498.14993226,\n",
       "       2499.64988368, 2481.94991897, 2484.14993738, 2520.85010861,\n",
       "       2551.85007593, 2552.55006821, 2577.39990596, 2551.80001778,\n",
       "       2557.10013005, 2564.30006124, 2535.4999629 , 2514.7500372 ,\n",
       "       2495.55004635, 2496.44997237, 2496.44997237, 2550.25000821,\n",
       "       2615.69992078, 2588.75003149, 2584.5000197 , 2638.74998119,\n",
       "       2633.60011809, 2735.05006019, 2764.69995169, 2767.7499874 ,\n",
       "       2742.9999671 , 2740.69998181, 2796.69996134, 2820.44993932,\n",
       "       2841.850098  , 2619.85011512, 2538.75000708, 2487.39990684,\n",
       "       2485.80006326, 2526.19998018, 2502.69991939, 2527.85010605,\n",
       "       2549.24996588, 2513.19995291, 2486.35010521, 2475.89990571,\n",
       "       2509.55004123, 2523.85008617, 2508.64989107, 2525.19993785,\n",
       "       2536.44994708, 2547.14991435, 2577.25003036, 2575.14990411,\n",
       "       2538.00003137, 2556.80007999, 2520.0000166 , 2519.39991649,\n",
       "       2522.19996029, 2479.80003343, 2468.35009045, 2443.75002046,\n",
       "       2420.35007598, 2418.05001598, 2407.00001521, 2412.64993683,\n",
       "       2410.69998504, 2423.60012015, 2428.6999251 , 2432.00002742,\n",
       "       2448.199966  , 2474.60011218, 2438.85007455, 2451.05006795,\n",
       "       2453.3000698 , 2457.85013164, 2436.44997296, 2382.14987861,\n",
       "       2364.8000221 , 2354.9499227 , 2340.44994402, 2342.50001211,\n",
       "       2368.89993415, 2334.10010484, 2345.00000586, 2318.14993402,\n",
       "       2314.14991414, 2314.10008013, 2317.99998371, 2298.25002562,\n",
       "       2308.39987622, 2345.05006401, 2349.39989325, 2349.3000758 ,\n",
       "       2344.05002168, 2355.24997276, 2324.00001354, 2306.14987437,\n",
       "       2299.10011763, 2263.19998026, 2257.94992614, 2226.50003317,\n",
       "       2265.8000156 , 2312.5000124 , 2287.8998677 , 2297.3999336 ,\n",
       "       2320.1999274 , 2319.6999436 , 2338.99997603, 2323.80007978,\n",
       "       2335.89988217, 2310.55006061, 2314.89988985, 2314.60006394,\n",
       "       2356.44994884, 2360.69996063, 2355.55002282, 2349.35013395,\n",
       "       2378.89990915, 2388.19996659, 2395.50001408, 2393.89987164,\n",
       "       2394.39993016, 2400.69993533, 2377.44994116, 2394.300038  ,\n",
       "       2420.19997623, 2437.74999063, 2461.1001011 , 2457.05002307,\n",
       "       2455.7500054 , 2459.35008306, 2424.0500458 , 2433.94997921,\n",
       "       2464.14991267, 2495.6001045 , 2520.99998421, 2558.10009766,\n",
       "       2527.14988964, 2562.5500432 , 2565.05003695, 2578.05006422,\n",
       "       2586.85006314, 2605.55007018, 2584.94994536, 2590.24998291,\n",
       "       2611.6999756 , 2583.30004362, 2596.64988024, 2607.69995572,\n",
       "       2587.35012166, 2580.49999982, 2650.10010673, 2719.80003108,\n",
       "       2741.44995752])"
      ]
     },
     "execution_count": 27,
     "metadata": {},
     "output_type": "execute_result"
    }
   ],
   "source": [
    "dummies = np.zeros((X_test.shape[0], lookback+1))\n",
    "dummies[:, 0] = y_test.flatten()\n",
    "dummies = scaler.inverse_transform(dummies)\n",
    "\n",
    "new_y_test = dc(dummies[:, 0])\n",
    "new_y_test"
   ]
  },
  {
   "cell_type": "code",
   "execution_count": 28,
   "id": "13be80bd",
   "metadata": {},
   "outputs": [
    {
     "data": {
      "image/png": "[encoded data removed]",
      "text/plain": [
       "<Figure size 640x480 with 1 Axes>"
      ]
     },
     "metadata": {},
     "output_type": "display_data"
    }
   ],
   "source": [
    "plt.plot(new_y_test, label='Actual Close')\n",
    "plt.plot(test_predictions, label='Predicted Close')\n",
    "plt.xlabel('Day')\n",
    "plt.ylabel('Close')\n",
    "plt.legend()\n",
    "plt.show()\n"
   ]
  },
  {
   "cell_type": "code",
   "execution_count": null,
   "id": "e13eb914",
   "metadata": {},
   "outputs": [],
   "source": []
  }
 ],
 "metadata": {
  "kernelspec": {
   "display_name": "Python 3 (ipykernel)",
   "language": "python",
   "name": "python3"
  },
  "language_info": {
   "codemirror_mode": {
    "name": "ipython",
    "version": 3
   },
   "file_extension": ".py",
   "mimetype": "text/x-python",
   "name": "python",
   "nbconvert_exporter": "python",
   "pygments_lexer": "ipython3",
   "version": "3.11.5"
  }
 },
 "nbformat": 4,
 "nbformat_minor": 5
}
